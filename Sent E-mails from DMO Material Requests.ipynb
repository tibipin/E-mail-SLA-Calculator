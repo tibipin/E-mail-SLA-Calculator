{
 "cells": [
  {
   "cell_type": "markdown",
   "metadata": {},
   "source": [
    "# E-mail SLA Calculator for DMO Material Requests"
   ]
  },
  {
   "cell_type": "code",
   "execution_count": 1,
   "metadata": {},
   "outputs": [],
   "source": [
    "import win32com.client as w32\n",
    "import pandas\n",
    "from numpy import timedelta64 as td\n",
    "pandas.set_option('mode.chained_assignment', None)"
   ]
  },
  {
   "cell_type": "markdown",
   "metadata": {},
   "source": [
    "### Connect to Outlook and extract the [Sent Items] folder in a variable"
   ]
  },
  {
   "cell_type": "code",
   "execution_count": 2,
   "metadata": {},
   "outputs": [],
   "source": [
    "sent_items = w32.Dispatch('Outlook.Application').GetNameSpace('MAPI').Folders('DMO Material Requests').Folders('Sent Items')"
   ]
  },
  {
   "cell_type": "markdown",
   "metadata": {},
   "source": [
    " ### Save all the e-mails in the sent_items in a variable"
   ]
  },
  {
   "cell_type": "code",
   "execution_count": 3,
   "metadata": {},
   "outputs": [],
   "source": [
    "sent_mails = sent_items.Items"
   ]
  },
  {
   "cell_type": "markdown",
   "metadata": {},
   "source": [
    "### Save all the employees in a dictionary"
   ]
  },
  {
   "cell_type": "code",
   "execution_count": 4,
   "metadata": {},
   "outputs": [],
   "source": [
    "temp_dmo = {'Catalin Paltanea': 'Catalin Paltanea',\n",
    " 'Irina Jiga': 'Irina Jiga',\n",
    " 'Claudiu Catargiu': 'Claudiu Catargiu',\n",
    " 'Cezara Stefania Neagu': 'Cezara Stefania Neagu',\n",
    " 'Arabella Stan': 'Arabella Stan',\n",
    " 'Valentin Vulpe': 'Valentin Vulpe',\n",
    " 'Bogdan Dragan': 'Bogdan Dragan',\n",
    " 'Razvan Rusescu': 'Razvan Rusescu',\n",
    " 'Razvan-Alexandru Florian': 'Razvan-Alexandru Florian',\n",
    " 'Rontu Edmond': 'Rontu Edmond',\n",
    " 'Secu Gabriel': 'Secu Gabriel',\n",
    " 'Marius Savu': 'Marius Savu'}"
   ]
  },
  {
   "cell_type": "markdown",
   "metadata": {},
   "source": [
    "### Create blank lists in which all the e-mail data will be stored"
   ]
  },
  {
   "cell_type": "code",
   "execution_count": 5,
   "metadata": {},
   "outputs": [],
   "source": [
    "sender, subject, so, generic_sender, convoID = [],[],[],[],[]"
   ]
  },
  {
   "cell_type": "markdown",
   "metadata": {},
   "source": [
    "### Loop through all e-mails and extract the sender, subject, sent on date & time, the person from the team who sent the e-mail from the generic mailbox and the conversation id"
   ]
  },
  {
   "cell_type": "code",
   "execution_count": 6,
   "metadata": {},
   "outputs": [],
   "source": [
    "for mail in sent_mails:\n",
    "    sender.append(mail.SenderName)\n",
    "    subject.append(mail.Subject)\n",
    "    so.append(str(mail.SentOn))\n",
    "    if '26ade4a6050840e798d653178cb0864c-DMO Materia'.upper() in mail.SenderEmailAddress.upper():\n",
    "        contor = 0\n",
    "        for element in temp_dmo:\n",
    "            if element in mail.Body:\n",
    "                generic_sender.append('{0}, {1}'.format(temp_dmo[element].split()[1],temp_dmo[element].split()[0]))\n",
    "                break\n",
    "            else:\n",
    "                contor += 1\n",
    "                if contor == len(temp_dmo):\n",
    "                    generic_sender.append('No sender found')\n",
    "                    break\n",
    "                else:\n",
    "                    continue\n",
    "    else:\n",
    "        generic_sender.append(None)\n",
    "    convoID.append(mail.ConversationID)"
   ]
  },
  {
   "cell_type": "markdown",
   "metadata": {},
   "source": [
    "### Let's check if all the lists have the same number of details so we can transpose them to a dataframe"
   ]
  },
  {
   "cell_type": "code",
   "execution_count": 7,
   "metadata": {},
   "outputs": [
    {
     "name": "stdout",
     "output_type": "stream",
     "text": [
      "\n",
      "Senders: 7538\n",
      "Subjects: 7538\n",
      "SentOns: 7538\n",
      "Generic Senders: 7538\n",
      "Conversation IDs: 7538\n",
      "\n"
     ]
    }
   ],
   "source": [
    "print('''\n",
    "Senders: {}\n",
    "Subjects: {}\n",
    "SentOns: {}\n",
    "Generic Senders: {}\n",
    "Conversation IDs: {}\n",
    "'''.format(len(sender),len(subject),len(so),len(generic_sender),len(convoID)))"
   ]
  },
  {
   "cell_type": "markdown",
   "metadata": {},
   "source": [
    "### If all lists have the same size we can transpose them into a pandas dataframe"
   ]
  },
  {
   "cell_type": "code",
   "execution_count": 8,
   "metadata": {},
   "outputs": [],
   "source": [
    "df = pandas.DataFrame({'Sender': sender, 'Subject': subject,\n",
    "                                    'ConversationID': convoID, 'SentOn': so,\n",
    "                                    'MailBox': 'Sent Items', 'DMO_sender': generic_sender})"
   ]
  },
  {
   "cell_type": "markdown",
   "metadata": {},
   "source": [
    "### Let's have a quick look at what the dataframe looks like"
   ]
  },
  {
   "cell_type": "code",
   "execution_count": 9,
   "metadata": {},
   "outputs": [
    {
     "data": {
      "text/html": [
       "<div>\n",
       "<style scoped>\n",
       "    .dataframe tbody tr th:only-of-type {\n",
       "        vertical-align: middle;\n",
       "    }\n",
       "\n",
       "    .dataframe tbody tr th {\n",
       "        vertical-align: top;\n",
       "    }\n",
       "\n",
       "    .dataframe thead th {\n",
       "        text-align: right;\n",
       "    }\n",
       "</style>\n",
       "<table border=\"1\" class=\"dataframe\">\n",
       "  <thead>\n",
       "    <tr style=\"text-align: right;\">\n",
       "      <th></th>\n",
       "      <th>Sender</th>\n",
       "      <th>Subject</th>\n",
       "      <th>ConversationID</th>\n",
       "      <th>SentOn</th>\n",
       "      <th>MailBox</th>\n",
       "      <th>DMO_sender</th>\n",
       "    </tr>\n",
       "  </thead>\n",
       "  <tbody>\n",
       "    <tr>\n",
       "      <th>0</th>\n",
       "      <td>DMO Material Requests</td>\n",
       "      <td>FW: Crown Effective Out Date Updates</td>\n",
       "      <td>F8147819100A4B548EE30447FEE25DAF</td>\n",
       "      <td>2020-03-12 11:44:41.985000+00:00</td>\n",
       "      <td>Sent Items</td>\n",
       "      <td>No sender found</td>\n",
       "    </tr>\n",
       "    <tr>\n",
       "      <th>1</th>\n",
       "      <td>DMO Material Requests</td>\n",
       "      <td>RE: BOM ASSIGNMENT - Soft Change Cleanup</td>\n",
       "      <td>6F3BBB79512B40558CFE65F5C0B3F36A</td>\n",
       "      <td>2020-03-12 11:38:13.861000+00:00</td>\n",
       "      <td>Sent Items</td>\n",
       "      <td>No sender found</td>\n",
       "    </tr>\n",
       "    <tr>\n",
       "      <th>2</th>\n",
       "      <td>DMO Material Requests</td>\n",
       "      <td>RE: Please adjut 10010384 quantity</td>\n",
       "      <td>AD02799C9E5B4FEA88FA5DC7A08415B6</td>\n",
       "      <td>2020-03-11 21:46:10.437000+00:00</td>\n",
       "      <td>Sent Items</td>\n",
       "      <td>No sender found</td>\n",
       "    </tr>\n",
       "    <tr>\n",
       "      <th>3</th>\n",
       "      <td>DMO Material Requests</td>\n",
       "      <td>RE: [EXTERNAL] New Materials</td>\n",
       "      <td>EE469A878EE442CCADE63CDD4CA0198E</td>\n",
       "      <td>2020-03-11 21:03:52.917000+00:00</td>\n",
       "      <td>Sent Items</td>\n",
       "      <td>No sender found</td>\n",
       "    </tr>\n",
       "    <tr>\n",
       "      <th>4</th>\n",
       "      <td>DMO Material Requests</td>\n",
       "      <td>Project 7337 - Cape Line to FTW (Project Domin...</td>\n",
       "      <td>088AE2733C95455A97D3E159CA49AD13</td>\n",
       "      <td>2020-03-11 20:48:30.239000+00:00</td>\n",
       "      <td>Sent Items</td>\n",
       "      <td>No sender found</td>\n",
       "    </tr>\n",
       "    <tr>\n",
       "      <th>...</th>\n",
       "      <td>...</td>\n",
       "      <td>...</td>\n",
       "      <td>...</td>\n",
       "      <td>...</td>\n",
       "      <td>...</td>\n",
       "      <td>...</td>\n",
       "    </tr>\n",
       "    <tr>\n",
       "      <th>7533</th>\n",
       "      <td>DMO Material Requests</td>\n",
       "      <td>RE: MRP Value Request - Lot Size</td>\n",
       "      <td>3ED7FFDB8BEC452E9E83011E438C76FC</td>\n",
       "      <td>2020-05-06 12:16:55+00:00</td>\n",
       "      <td>Sent Items</td>\n",
       "      <td>No sender found</td>\n",
       "    </tr>\n",
       "    <tr>\n",
       "      <th>7534</th>\n",
       "      <td>DMO Material Requests</td>\n",
       "      <td>RE: MRP Value Request - Lot Size</td>\n",
       "      <td>3ED7FFDB8BEC452E9E83011E438C76FC</td>\n",
       "      <td>2020-05-06 12:16:50.316000+00:00</td>\n",
       "      <td>Sent Items</td>\n",
       "      <td>No sender found</td>\n",
       "    </tr>\n",
       "    <tr>\n",
       "      <th>7535</th>\n",
       "      <td>DMO Material Requests</td>\n",
       "      <td>RE: URGENT 4.7.2020 BOM Assignment START 7426 ...</td>\n",
       "      <td>EC99297363454502BDB69C5C20B1212D</td>\n",
       "      <td>2020-05-06 12:24:03+00:00</td>\n",
       "      <td>Sent Items</td>\n",
       "      <td>No sender found</td>\n",
       "    </tr>\n",
       "    <tr>\n",
       "      <th>7536</th>\n",
       "      <td>DMO Material Requests</td>\n",
       "      <td>RE: URGENT 4.7.2020 BOM Assignment START 7426 ...</td>\n",
       "      <td>EC99297363454502BDB69C5C20B1212D</td>\n",
       "      <td>2020-05-06 12:23:59.308000+00:00</td>\n",
       "      <td>Sent Items</td>\n",
       "      <td>No sender found</td>\n",
       "    </tr>\n",
       "    <tr>\n",
       "      <th>7537</th>\n",
       "      <td>DMO Material Requests</td>\n",
       "      <td>RE: 7479 New Master Data Checklist - MSKU Exte...</td>\n",
       "      <td>376FC651C08E49A0B3CB1DB2C2D25DF6</td>\n",
       "      <td>2020-05-06 12:41:05+00:00</td>\n",
       "      <td>Sent Items</td>\n",
       "      <td>Dragan, Bogdan</td>\n",
       "    </tr>\n",
       "  </tbody>\n",
       "</table>\n",
       "<p>7538 rows × 6 columns</p>\n",
       "</div>"
      ],
      "text/plain": [
       "                     Sender  \\\n",
       "0     DMO Material Requests   \n",
       "1     DMO Material Requests   \n",
       "2     DMO Material Requests   \n",
       "3     DMO Material Requests   \n",
       "4     DMO Material Requests   \n",
       "...                     ...   \n",
       "7533  DMO Material Requests   \n",
       "7534  DMO Material Requests   \n",
       "7535  DMO Material Requests   \n",
       "7536  DMO Material Requests   \n",
       "7537  DMO Material Requests   \n",
       "\n",
       "                                                Subject  \\\n",
       "0                  FW: Crown Effective Out Date Updates   \n",
       "1              RE: BOM ASSIGNMENT - Soft Change Cleanup   \n",
       "2                    RE: Please adjut 10010384 quantity   \n",
       "3                          RE: [EXTERNAL] New Materials   \n",
       "4     Project 7337 - Cape Line to FTW (Project Domin...   \n",
       "...                                                 ...   \n",
       "7533                  RE: MRP Value Request - Lot Size    \n",
       "7534                  RE: MRP Value Request - Lot Size    \n",
       "7535  RE: URGENT 4.7.2020 BOM Assignment START 7426 ...   \n",
       "7536  RE: URGENT 4.7.2020 BOM Assignment START 7426 ...   \n",
       "7537  RE: 7479 New Master Data Checklist - MSKU Exte...   \n",
       "\n",
       "                        ConversationID                            SentOn  \\\n",
       "0     F8147819100A4B548EE30447FEE25DAF  2020-03-12 11:44:41.985000+00:00   \n",
       "1     6F3BBB79512B40558CFE65F5C0B3F36A  2020-03-12 11:38:13.861000+00:00   \n",
       "2     AD02799C9E5B4FEA88FA5DC7A08415B6  2020-03-11 21:46:10.437000+00:00   \n",
       "3     EE469A878EE442CCADE63CDD4CA0198E  2020-03-11 21:03:52.917000+00:00   \n",
       "4     088AE2733C95455A97D3E159CA49AD13  2020-03-11 20:48:30.239000+00:00   \n",
       "...                                ...                               ...   \n",
       "7533  3ED7FFDB8BEC452E9E83011E438C76FC         2020-05-06 12:16:55+00:00   \n",
       "7534  3ED7FFDB8BEC452E9E83011E438C76FC  2020-05-06 12:16:50.316000+00:00   \n",
       "7535  EC99297363454502BDB69C5C20B1212D         2020-05-06 12:24:03+00:00   \n",
       "7536  EC99297363454502BDB69C5C20B1212D  2020-05-06 12:23:59.308000+00:00   \n",
       "7537  376FC651C08E49A0B3CB1DB2C2D25DF6         2020-05-06 12:41:05+00:00   \n",
       "\n",
       "         MailBox       DMO_sender  \n",
       "0     Sent Items  No sender found  \n",
       "1     Sent Items  No sender found  \n",
       "2     Sent Items  No sender found  \n",
       "3     Sent Items  No sender found  \n",
       "4     Sent Items  No sender found  \n",
       "...          ...              ...  \n",
       "7533  Sent Items  No sender found  \n",
       "7534  Sent Items  No sender found  \n",
       "7535  Sent Items  No sender found  \n",
       "7536  Sent Items  No sender found  \n",
       "7537  Sent Items   Dragan, Bogdan  \n",
       "\n",
       "[7538 rows x 6 columns]"
      ]
     },
     "execution_count": 9,
     "metadata": {},
     "output_type": "execute_result"
    }
   ],
   "source": [
    "df"
   ]
  },
  {
   "cell_type": "markdown",
   "metadata": {},
   "source": [
    "### Let's export the dataframe to excel for now just to make sure we don't have to extract the data all over again in case something is wrong"
   ]
  },
  {
   "cell_type": "code",
   "execution_count": 10,
   "metadata": {},
   "outputs": [],
   "source": [
    "df.to_excel('Raw Data E-mail SLA Calculator - Sent Items DMO.xlsx')"
   ]
  },
  {
   "cell_type": "markdown",
   "metadata": {},
   "source": [
    "### Let's edit the data frame by deleting the miliseconds from the 'Sent On' column, and let's sort the dataframe based on 'Conversation ID' and 'Sent On'"
   ]
  },
  {
   "cell_type": "code",
   "execution_count": 11,
   "metadata": {},
   "outputs": [],
   "source": [
    "df['SentOn'] = df['SentOn'].str.strip('+00:00')\n",
    "df['SentOn'] = pandas.to_datetime(df['SentOn'])\n",
    "df = df.sort_values(['ConversationID', 'SentOn'], ascending=(False, True))\n",
    "df.reset_index(inplace=True)\n",
    "df.drop(columns='index', inplace=True)"
   ]
  },
  {
   "cell_type": "markdown",
   "metadata": {},
   "source": [
    "### Let's create a separate dataframe only with the unique conversation ID's so we can assess the number of tickets handled by the team"
   ]
  },
  {
   "cell_type": "code",
   "execution_count": 12,
   "metadata": {},
   "outputs": [],
   "source": [
    "df2 = pandas.DataFrame()\n",
    "dcid = pandas.DataFrame({'DCID': []})\n",
    "dcid['DCID'] = df['ConversationID'].unique()"
   ]
  },
  {
   "cell_type": "markdown",
   "metadata": {},
   "source": [
    "### Loop through each distinct conversation id, create a temporary dataframe where the e-mail response time is calculated and return the response time in the original dataframe"
   ]
  },
  {
   "cell_type": "code",
   "execution_count": 13,
   "metadata": {},
   "outputs": [],
   "source": [
    "for i in dcid.iterrows():\n",
    "    tempdf = df[df['ConversationID'] == i[1]['DCID']]\n",
    "    tempdf['Response_Time'] = tempdf['SentOn'].diff()\n",
    "    df2 = df2.append(tempdf)\n",
    "df2 = df2['Response_Time']\n",
    "df = df.merge(df2.to_frame(), how='left', left_index=True, right_index=True)\n",
    "df['Response_Time_h'] = df['Response_Time'] / td(1, 'h')\n",
    "df['Response_Time_days'] = df['Response_Time'] / td(1, 'D')\n",
    "df.drop(columns=['Response_Time'], inplace=True)\n",
    "df['SentOn_day'] = df['SentOn'].dt.day_name()\n",
    "df['SentOn_Month'] = df['SentOn'].dt.month_name()\n",
    "df['SentOn_Year'] = df['SentOn'].dt.year.astype(str)"
   ]
  },
  {
   "cell_type": "markdown",
   "metadata": {},
   "source": [
    "### Create a separate dataframe which will calculate the total response time for each ticket"
   ]
  },
  {
   "cell_type": "code",
   "execution_count": 14,
   "metadata": {},
   "outputs": [],
   "source": [
    "total_response_time = df.groupby(['ConversationID'], as_index=False)[['Response_Time_h',\n",
    "                                                                                'Response_Time_days']].sum()\n",
    "total_response_time.rename(columns={'Response_Time_h': 'Total_Response_Time_h',\n",
    "                                    'Response_Time_days': 'Total_Response_Time_days'}, inplace=True)\n",
    "unique_conversationIDs = df['ConversationID'].drop_duplicates().to_frame()"
   ]
  },
  {
   "cell_type": "markdown",
   "metadata": {},
   "source": [
    "### Now let's export all three dataframes to an excel file"
   ]
  },
  {
   "cell_type": "code",
   "execution_count": 15,
   "metadata": {},
   "outputs": [],
   "source": [
    "writer = pandas.ExcelWriter('E-mail SLA calculator Sent Items.xlsx',engine='xlsxwriter')\n",
    "\n",
    "with writer:\n",
    "    df.to_excel(writer, index=False, sheet_name='Raw Data')\n",
    "    total_response_time.to_excel(writer, index=False, sheet_name='Response Time summary')\n",
    "    unique_conversationIDs.to_excel(writer, index=False, sheet_name='Unique Conversation IDs')\n",
    "writer.save()"
   ]
  }
 ],
 "metadata": {
  "kernelspec": {
   "display_name": "Python 3",
   "language": "python",
   "name": "python3"
  },
  "language_info": {
   "codemirror_mode": {
    "name": "ipython",
    "version": 3
   },
   "file_extension": ".py",
   "mimetype": "text/x-python",
   "name": "python",
   "nbconvert_exporter": "python",
   "pygments_lexer": "ipython3",
   "version": "3.7.6"
  }
 },
 "nbformat": 4,
 "nbformat_minor": 4
}
